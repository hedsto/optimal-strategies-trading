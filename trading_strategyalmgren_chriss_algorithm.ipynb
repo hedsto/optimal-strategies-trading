{
 "cells": [
  {
   "cell_type": "markdown",
   "metadata": {},
   "source": [
    "# The Almgren and Chriss model\n",
    "\n",
    "In this notebook, we will implement the Almgren and Chriss model. This model is useful when we want to sell a large quantity of a stock (or of several stocks) in one day. The question is then : How to choose a good way to split this large order in time and volume ?\n",
    "\n",
    "There are two naive strategies. The first consist in selling everything right now which leads to a huge transaction cost since we need to \"eat\" a lot in the order book. However this cost is known. The second consists in the day smalll amounts assets. It leads to small transaction costs (volumes are much smaller) but the final profit is unknown because of the daily price fluctuations : **volatility Risk**\n",
    "\n",
    "We need to optimize between transaction costs and volatility risk. To do so, we use the Almgren and Chriss framework which takes into account the market impact phenomenon and emphasizes the importance of having good statistical estimators of market parameteres.\n",
    "\n",
    "## Setup\n",
    "\n",
    "We consider we are selling one asset. We have X shares of this assets at $T_0 = 0$. We want to everything to be sold at $t = T$. We split $[0, T]$ into $N$ intervals of length $\\tau = \\frac{T}{N}$ and set $t_k = k \\tau, k = 0,..., N$. Atrading strategy is a vector $(x_0,...,x_N)$, with $x_k$ the number of shares we still have at time $t_k$. \n",
    "\n",
    "We denote $x_0 = X$, $x_N = 0$ and $n_k = x_{k-1} - x_k$ is the number of assets sold between $t_{k-1}$ and $t_k$ (and not exactly at time $t_{k-1}$ or $t_k$), decided at time $t_{k-1}$.\n",
    "\n",
    "## Price decomposition \n",
    "\n",
    "The price we have access to moves because of : \n",
    "- the drift : negligeable at the intraday level\n",
    "- the volatility\n",
    "- the market impact\n",
    "\n",
    "## Market impact\n",
    "### Permanent market impact\n",
    "\n",
    "Market participants see us selling large quantities. Thus they revise their prices down. Therefore, the \"equilibrium price\" of the asset is mopdified in a permanent way. \n",
    "\n",
    "If we denote $S_k$ the equilibrium price at $t_k$, then : \n",
    "\n",
    "$$S_k = S_{k-1} + \\sigma \\tau^{\\frac{1}{2}} \\xi_k - \\tau g(n_k/\\tau)$$\n",
    "\n",
    "with $\\xi_k$ iid standard Gaussian and $n_k/\\tau$ the average trading rate between $t_{k-1}$ and $t_k$\n",
    "\n",
    "### Temporary market impact\n",
    "\n",
    "It is due to the transaction costs : we are liquidity taker since we consume the liquidity available in the order book. However, if we sell a large amount of shares, our price per share is significantly worse than when selling only one share. We assume this effect is temporary and the liquidity comes back after each period.\n",
    "Let's denote $\\widetilde{S}_k = (\\sum n_{k,i}p_i)/n_k$ with $n_{k,i}$ the number of shares sold at price $p_i$ between $t_{k-1}$ and $t_k$. We then set : \n",
    "\n",
    "$$\\widetilde{S}_k = S_{k-1} - h\\left(\\frac{n_k}{\\tau}\\right)$$\n",
    "\n"
   ]
  },
  {
   "cell_type": "markdown",
   "metadata": {},
   "source": []
  },
  {
   "cell_type": "markdown",
   "metadata": {},
   "source": []
  }
 ],
 "metadata": {
  "language_info": {
   "name": "python"
  }
 },
 "nbformat": 4,
 "nbformat_minor": 2
}
